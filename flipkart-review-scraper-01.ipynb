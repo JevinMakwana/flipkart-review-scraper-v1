{
 "cells": [
  {
   "cell_type": "code",
   "execution_count": 12,
   "metadata": {},
   "outputs": [],
   "source": [
    "from urllib.request import urlopen\n",
    "from bs4 import BeautifulSoup as bs\n",
    "import numpy as np"
   ]
  },
  {
   "cell_type": "code",
   "execution_count": 13,
   "metadata": {},
   "outputs": [],
   "source": [
    "base_url = \"https://www.flipkart.com/samsung-galaxy-book-2-intel-core-i5-12th-gen-1235u-8-gb-512-gb-ssd-windows-11-home-np550-thin-light-laptop/product-reviews/itmcb89499a3c4e4?pid=COMGH3V3UUGM46BQ&lid=LSTCOMGH3V3UUGM46BQZAGUN0&marketplace=FLIPKART?page=\""
   ]
  },
  {
   "cell_type": "code",
   "execution_count": 14,
   "metadata": {},
   "outputs": [
    {
     "data": {
      "text/plain": [
       "25"
      ]
     },
     "execution_count": 14,
     "metadata": {},
     "output_type": "execute_result"
    }
   ],
   "source": [
    "resData = urlopen(base_url)\n",
    "htmlData = resData.read()\n",
    "soup = bs(htmlData, 'html.parser')\n",
    "pagination_div = soup.find('div', {\"class\":'_2MImiq _1Qnn1K'})\n",
    "total_pages = int(pagination_div.span.text.split()[-1])\n",
    "total_pages"
   ]
  },
  {
   "cell_type": "code",
   "execution_count": 21,
   "metadata": {},
   "outputs": [],
   "source": [
    "def get_reviews_of_page(i):\n",
    "    resData = urlopen(base_url+str(i))\n",
    "    htmlData = resData.read()\n",
    "    soup = bs(htmlData, 'html.parser')\n",
    "    main_review_divs = soup.findAll('div', {\"class\":\"col _2wzgFH K0kLPL\"})\n",
    "\n",
    "    cur_page_reviews = []\n",
    "    for main_review_div in main_review_divs:\n",
    "        review_head_div = main_review_div.find('p', {\"class\":\"_2-N8zT\"})\n",
    "        review_heading = review_head_div.text\n",
    "        \n",
    "        review_body_div = main_review_div.find('div', {\"class\":'t-ZTKy'})\n",
    "        review_body = review_body_div.text\n",
    "        \n",
    "        rating_div = main_review_div.find('div', {\"class\":\"_3LWZlK _1BLPMq\"})\n",
    "        rating = rating_div.text.replace('READ MORE', '').strip()\n",
    "        \n",
    "        review_up_votes_div = main_review_div.find('div', {\"class\":'_1LmwT9'})\n",
    "        review_up_votes = review_up_votes_div.text\n",
    "        \n",
    "        review_down_votes_div = main_review_div.find('div', {\"class\":'_1LmwT9 pkR4jH'})\n",
    "        review_down_votes = review_down_votes_div.text\n",
    "        \n",
    "        cur_page_reviews.append({\n",
    "            'heading':review_heading,\n",
    "            'review':review_body,\n",
    "            'rating':rating,\n",
    "            'up_votes':review_up_votes,\n",
    "            'down_votes':review_down_votes\n",
    "        })\n",
    "    print(\"cur_page_reviews:\",cur_page_reviews)\n",
    "    return cur_page_reviews"
   ]
  },
  {
   "cell_type": "code",
   "execution_count": null,
   "metadata": {},
   "outputs": [],
   "source": [
    "final_review_array = []\n",
    "for i in range(1, total_pages+1): #total_pages+1\n",
    "    # get_reviews_of_page(i)\n",
    "    final_review_array = final_review_array + get_reviews_of_page(i)\n"
   ]
  },
  {
   "cell_type": "markdown",
   "metadata": {},
   "source": [
    "## Storing scraped data in csv file"
   ]
  },
  {
   "cell_type": "code",
   "execution_count": 31,
   "metadata": {},
   "outputs": [],
   "source": [
    "import csv"
   ]
  },
  {
   "cell_type": "code",
   "execution_count": null,
   "metadata": {},
   "outputs": [],
   "source": [
    "fileName = \"flipkart-product-reviews.csv\"\n",
    "\n",
    "with open(fileName, 'w', encoding='utf-8', newline='') as file:\n",
    "    headers = final_review_array[0].keys()\n",
    "    writer = csv.DictWriter(file, fieldnames=headers)\n",
    "    writer.writeheader()\n",
    "    \n",
    "    for review in final_review_array:\n",
    "        writer.writerow(review)"
   ]
  }
 ],
 "metadata": {
  "kernelspec": {
   "display_name": "base",
   "language": "python",
   "name": "python3"
  },
  "language_info": {
   "codemirror_mode": {
    "name": "ipython",
    "version": 3
   },
   "file_extension": ".py",
   "mimetype": "text/x-python",
   "name": "python",
   "nbconvert_exporter": "python",
   "pygments_lexer": "ipython3",
   "version": "3.11.5"
  }
 },
 "nbformat": 4,
 "nbformat_minor": 2
}
